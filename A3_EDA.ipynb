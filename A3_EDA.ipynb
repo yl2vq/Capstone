{
 "cells": [
  {
   "cell_type": "code",
   "execution_count": 42,
   "metadata": {},
   "outputs": [],
   "source": [
    "import pandas as pd\n",
    "import numpy as np\n",
    "import os\n",
    "import matplotlib as plt\n",
    "import seaborn as sns\n",
    "import re"
   ]
  },
  {
   "cell_type": "markdown",
   "metadata": {},
   "source": [
    "### Since not every objectID has Images, the Met mueseum database needs to be filtered"
   ]
  },
  {
   "cell_type": "code",
   "execution_count": 43,
   "metadata": {},
   "outputs": [
    {
     "name": "stderr",
     "output_type": "stream",
     "text": [
      "/apps/software/standard/core/anaconda/5.2.0-py3.6/lib/python3.6/site-packages/IPython/core/interactiveshell.py:2785: DtypeWarning: Columns (1,3,11,12,13,14,15,22,23,24,31,32,33,34,35,36,37,38,39,40,41,42,43) have mixed types. Specify dtype option on import or set low_memory=False.\n",
      "  interactivity=interactivity, compiler=compiler, result=result)\n"
     ]
    },
    {
     "data": {
      "text/html": [
       "<div>\n",
       "<style scoped>\n",
       "    .dataframe tbody tr th:only-of-type {\n",
       "        vertical-align: middle;\n",
       "    }\n",
       "\n",
       "    .dataframe tbody tr th {\n",
       "        vertical-align: top;\n",
       "    }\n",
       "\n",
       "    .dataframe thead th {\n",
       "        text-align: right;\n",
       "    }\n",
       "</style>\n",
       "<table border=\"1\" class=\"dataframe\">\n",
       "  <thead>\n",
       "    <tr style=\"text-align: right;\">\n",
       "      <th></th>\n",
       "      <th>objectID</th>\n",
       "      <th>isHighlight</th>\n",
       "      <th>accessionNumber</th>\n",
       "      <th>isPublicDomain</th>\n",
       "      <th>primaryImage</th>\n",
       "      <th>primaryImageSmall</th>\n",
       "      <th>additionalImages</th>\n",
       "      <th>constituents</th>\n",
       "      <th>department</th>\n",
       "      <th>objectName</th>\n",
       "      <th>...</th>\n",
       "      <th>locus</th>\n",
       "      <th>excavation</th>\n",
       "      <th>river</th>\n",
       "      <th>classification</th>\n",
       "      <th>rightsAndReproduction</th>\n",
       "      <th>linkResource</th>\n",
       "      <th>metadataDate</th>\n",
       "      <th>repository</th>\n",
       "      <th>objectURL</th>\n",
       "      <th>tags</th>\n",
       "    </tr>\n",
       "  </thead>\n",
       "  <tbody>\n",
       "    <tr>\n",
       "      <th>0</th>\n",
       "      <td>1</td>\n",
       "      <td>False</td>\n",
       "      <td>1979.486.1</td>\n",
       "      <td>False</td>\n",
       "      <td>NaN</td>\n",
       "      <td>NaN</td>\n",
       "      <td>[]</td>\n",
       "      <td>[{'role': 'Maker', 'name': 'James Barton Longa...</td>\n",
       "      <td>The American Wing</td>\n",
       "      <td>Coin</td>\n",
       "      <td>...</td>\n",
       "      <td>NaN</td>\n",
       "      <td>NaN</td>\n",
       "      <td>NaN</td>\n",
       "      <td>Metal</td>\n",
       "      <td>NaN</td>\n",
       "      <td>NaN</td>\n",
       "      <td>NaN</td>\n",
       "      <td>Metropolitan Museum of Art, New York, NY</td>\n",
       "      <td>https://www.metmuseum.org/art/collection/search/1</td>\n",
       "      <td>[]</td>\n",
       "    </tr>\n",
       "    <tr>\n",
       "      <th>1</th>\n",
       "      <td>2</td>\n",
       "      <td>False</td>\n",
       "      <td>1980.264.5</td>\n",
       "      <td>False</td>\n",
       "      <td>NaN</td>\n",
       "      <td>NaN</td>\n",
       "      <td>[]</td>\n",
       "      <td>[{'role': 'Maker', 'name': 'Christian Gobrecht'}]</td>\n",
       "      <td>The American Wing</td>\n",
       "      <td>Coin</td>\n",
       "      <td>...</td>\n",
       "      <td>NaN</td>\n",
       "      <td>NaN</td>\n",
       "      <td>NaN</td>\n",
       "      <td>Metal</td>\n",
       "      <td>NaN</td>\n",
       "      <td>NaN</td>\n",
       "      <td>NaN</td>\n",
       "      <td>Metropolitan Museum of Art, New York, NY</td>\n",
       "      <td>https://www.metmuseum.org/art/collection/search/2</td>\n",
       "      <td>[]</td>\n",
       "    </tr>\n",
       "    <tr>\n",
       "      <th>2</th>\n",
       "      <td>3</td>\n",
       "      <td>False</td>\n",
       "      <td>67.265.9</td>\n",
       "      <td>False</td>\n",
       "      <td>NaN</td>\n",
       "      <td>NaN</td>\n",
       "      <td>[]</td>\n",
       "      <td>None</td>\n",
       "      <td>The American Wing</td>\n",
       "      <td>Coin</td>\n",
       "      <td>...</td>\n",
       "      <td>NaN</td>\n",
       "      <td>NaN</td>\n",
       "      <td>NaN</td>\n",
       "      <td>Metal</td>\n",
       "      <td>NaN</td>\n",
       "      <td>NaN</td>\n",
       "      <td>NaN</td>\n",
       "      <td>Metropolitan Museum of Art, New York, NY</td>\n",
       "      <td>https://www.metmuseum.org/art/collection/search/3</td>\n",
       "      <td>[]</td>\n",
       "    </tr>\n",
       "    <tr>\n",
       "      <th>3</th>\n",
       "      <td>4</td>\n",
       "      <td>False</td>\n",
       "      <td>67.265.10</td>\n",
       "      <td>False</td>\n",
       "      <td>NaN</td>\n",
       "      <td>NaN</td>\n",
       "      <td>[]</td>\n",
       "      <td>None</td>\n",
       "      <td>The American Wing</td>\n",
       "      <td>Coin</td>\n",
       "      <td>...</td>\n",
       "      <td>NaN</td>\n",
       "      <td>NaN</td>\n",
       "      <td>NaN</td>\n",
       "      <td>Metal</td>\n",
       "      <td>NaN</td>\n",
       "      <td>NaN</td>\n",
       "      <td>NaN</td>\n",
       "      <td>Metropolitan Museum of Art, New York, NY</td>\n",
       "      <td>https://www.metmuseum.org/art/collection/search/4</td>\n",
       "      <td>[]</td>\n",
       "    </tr>\n",
       "    <tr>\n",
       "      <th>4</th>\n",
       "      <td>5</td>\n",
       "      <td>False</td>\n",
       "      <td>67.265.11</td>\n",
       "      <td>False</td>\n",
       "      <td>NaN</td>\n",
       "      <td>NaN</td>\n",
       "      <td>[]</td>\n",
       "      <td>None</td>\n",
       "      <td>The American Wing</td>\n",
       "      <td>Coin</td>\n",
       "      <td>...</td>\n",
       "      <td>NaN</td>\n",
       "      <td>NaN</td>\n",
       "      <td>NaN</td>\n",
       "      <td>Metal</td>\n",
       "      <td>NaN</td>\n",
       "      <td>NaN</td>\n",
       "      <td>NaN</td>\n",
       "      <td>Metropolitan Museum of Art, New York, NY</td>\n",
       "      <td>https://www.metmuseum.org/art/collection/search/5</td>\n",
       "      <td>[]</td>\n",
       "    </tr>\n",
       "  </tbody>\n",
       "</table>\n",
       "<p>5 rows × 49 columns</p>\n",
       "</div>"
      ],
      "text/plain": [
       "   objectID isHighlight accessionNumber isPublicDomain primaryImage  \\\n",
       "0         1       False      1979.486.1          False          NaN   \n",
       "1         2       False      1980.264.5          False          NaN   \n",
       "2         3       False        67.265.9          False          NaN   \n",
       "3         4       False       67.265.10          False          NaN   \n",
       "4         5       False       67.265.11          False          NaN   \n",
       "\n",
       "  primaryImageSmall additionalImages  \\\n",
       "0               NaN               []   \n",
       "1               NaN               []   \n",
       "2               NaN               []   \n",
       "3               NaN               []   \n",
       "4               NaN               []   \n",
       "\n",
       "                                        constituents         department  \\\n",
       "0  [{'role': 'Maker', 'name': 'James Barton Longa...  The American Wing   \n",
       "1  [{'role': 'Maker', 'name': 'Christian Gobrecht'}]  The American Wing   \n",
       "2                                               None  The American Wing   \n",
       "3                                               None  The American Wing   \n",
       "4                                               None  The American Wing   \n",
       "\n",
       "  objectName ...  locus excavation river classification rightsAndReproduction  \\\n",
       "0       Coin ...    NaN        NaN   NaN          Metal                   NaN   \n",
       "1       Coin ...    NaN        NaN   NaN          Metal                   NaN   \n",
       "2       Coin ...    NaN        NaN   NaN          Metal                   NaN   \n",
       "3       Coin ...    NaN        NaN   NaN          Metal                   NaN   \n",
       "4       Coin ...    NaN        NaN   NaN          Metal                   NaN   \n",
       "\n",
       "  linkResource metadataDate                                repository  \\\n",
       "0          NaN          NaN  Metropolitan Museum of Art, New York, NY   \n",
       "1          NaN          NaN  Metropolitan Museum of Art, New York, NY   \n",
       "2          NaN          NaN  Metropolitan Museum of Art, New York, NY   \n",
       "3          NaN          NaN  Metropolitan Museum of Art, New York, NY   \n",
       "4          NaN          NaN  Metropolitan Museum of Art, New York, NY   \n",
       "\n",
       "                                           objectURL tags  \n",
       "0  https://www.metmuseum.org/art/collection/search/1   []  \n",
       "1  https://www.metmuseum.org/art/collection/search/2   []  \n",
       "2  https://www.metmuseum.org/art/collection/search/3   []  \n",
       "3  https://www.metmuseum.org/art/collection/search/4   []  \n",
       "4  https://www.metmuseum.org/art/collection/search/5   []  \n",
       "\n",
       "[5 rows x 49 columns]"
      ]
     },
     "execution_count": 43,
     "metadata": {},
     "output_type": "execute_result"
    }
   ],
   "source": [
    "# Reading in database; I already downloaded database and saved as csv\n",
    "database = pd.read_csv('Metdbs.csv')\n",
    "database.head()"
   ]
  },
  {
   "cell_type": "markdown",
   "metadata": {},
   "source": [
    "#### There are 49 variables in the database"
   ]
  },
  {
   "cell_type": "code",
   "execution_count": 44,
   "metadata": {},
   "outputs": [
    {
     "data": {
      "text/plain": [
       "['objectID',\n",
       " 'isHighlight',\n",
       " 'accessionNumber',\n",
       " 'isPublicDomain',\n",
       " 'primaryImage',\n",
       " 'primaryImageSmall',\n",
       " 'additionalImages',\n",
       " 'constituents',\n",
       " 'department',\n",
       " 'objectName',\n",
       " 'title',\n",
       " 'culture',\n",
       " 'period',\n",
       " 'dynasty',\n",
       " 'reign',\n",
       " 'portfolio',\n",
       " 'artistRole',\n",
       " 'artistPrefix',\n",
       " 'artistDisplayName',\n",
       " 'artistDisplayBio',\n",
       " 'artistSuffix',\n",
       " 'artistAlphaSort',\n",
       " 'artistNationality',\n",
       " 'artistBeginDate',\n",
       " 'artistEndDate',\n",
       " 'objectDate',\n",
       " 'objectBeginDate',\n",
       " 'objectEndDate',\n",
       " 'medium',\n",
       " 'dimensions',\n",
       " 'creditLine',\n",
       " 'geographyType',\n",
       " 'city',\n",
       " 'state',\n",
       " 'county',\n",
       " 'country',\n",
       " 'region',\n",
       " 'subregion',\n",
       " 'locale',\n",
       " 'locus',\n",
       " 'excavation',\n",
       " 'river',\n",
       " 'classification',\n",
       " 'rightsAndReproduction',\n",
       " 'linkResource',\n",
       " 'metadataDate',\n",
       " 'repository',\n",
       " 'objectURL',\n",
       " 'tags']"
      ]
     },
     "execution_count": 44,
     "metadata": {},
     "output_type": "execute_result"
    }
   ],
   "source": [
    "list(database)"
   ]
  },
  {
   "cell_type": "markdown",
   "metadata": {},
   "source": [
    "#### Making dataframe of only objectID that has Image"
   ]
  },
  {
   "cell_type": "code",
   "execution_count": 45,
   "metadata": {},
   "outputs": [
    {
     "data": {
      "text/html": [
       "<div>\n",
       "<style scoped>\n",
       "    .dataframe tbody tr th:only-of-type {\n",
       "        vertical-align: middle;\n",
       "    }\n",
       "\n",
       "    .dataframe tbody tr th {\n",
       "        vertical-align: top;\n",
       "    }\n",
       "\n",
       "    .dataframe thead th {\n",
       "        text-align: right;\n",
       "    }\n",
       "</style>\n",
       "<table border=\"1\" class=\"dataframe\">\n",
       "  <thead>\n",
       "    <tr style=\"text-align: right;\">\n",
       "      <th></th>\n",
       "      <th>objectID</th>\n",
       "    </tr>\n",
       "  </thead>\n",
       "  <tbody>\n",
       "    <tr>\n",
       "      <th>0</th>\n",
       "      <td>683212</td>\n",
       "    </tr>\n",
       "    <tr>\n",
       "      <th>1</th>\n",
       "      <td>209031</td>\n",
       "    </tr>\n",
       "    <tr>\n",
       "      <th>2</th>\n",
       "      <td>632361</td>\n",
       "    </tr>\n",
       "    <tr>\n",
       "      <th>3</th>\n",
       "      <td>264926</td>\n",
       "    </tr>\n",
       "    <tr>\n",
       "      <th>4</th>\n",
       "      <td>443554</td>\n",
       "    </tr>\n",
       "  </tbody>\n",
       "</table>\n",
       "</div>"
      ],
      "text/plain": [
       "   objectID\n",
       "0    683212\n",
       "1    209031\n",
       "2    632361\n",
       "3    264926\n",
       "4    443554"
      ]
     },
     "execution_count": 45,
     "metadata": {},
     "output_type": "execute_result"
    }
   ],
   "source": [
    "empty= []\n",
    "for i in os.listdir('/sfs/lustre/bahamut/scratch/yl2vq/Resized'):\n",
    "    if i.endswith('.jpg'):\n",
    "        ID = i.split('.')[0]\n",
    "        ID = int(ID)\n",
    "        empty.append(ID)\n",
    "small = pd.DataFrame({\"objectID\":empty})\n",
    "small.head() #total 227979 (1 pynb checkpoint)"
   ]
  },
  {
   "cell_type": "markdown",
   "metadata": {},
   "source": [
    "#### Left-joining the original dataframe and new dataframe consisting only objectID with Images"
   ]
  },
  {
   "cell_type": "code",
   "execution_count": 46,
   "metadata": {},
   "outputs": [
    {
     "data": {
      "text/html": [
       "<div>\n",
       "<style scoped>\n",
       "    .dataframe tbody tr th:only-of-type {\n",
       "        vertical-align: middle;\n",
       "    }\n",
       "\n",
       "    .dataframe tbody tr th {\n",
       "        vertical-align: top;\n",
       "    }\n",
       "\n",
       "    .dataframe thead th {\n",
       "        text-align: right;\n",
       "    }\n",
       "</style>\n",
       "<table border=\"1\" class=\"dataframe\">\n",
       "  <thead>\n",
       "    <tr style=\"text-align: right;\">\n",
       "      <th></th>\n",
       "      <th>objectID</th>\n",
       "      <th>isHighlight</th>\n",
       "      <th>accessionNumber</th>\n",
       "      <th>isPublicDomain</th>\n",
       "      <th>primaryImage</th>\n",
       "      <th>primaryImageSmall</th>\n",
       "      <th>additionalImages</th>\n",
       "      <th>constituents</th>\n",
       "      <th>department</th>\n",
       "      <th>objectName</th>\n",
       "      <th>...</th>\n",
       "      <th>locus</th>\n",
       "      <th>excavation</th>\n",
       "      <th>river</th>\n",
       "      <th>classification</th>\n",
       "      <th>rightsAndReproduction</th>\n",
       "      <th>linkResource</th>\n",
       "      <th>metadataDate</th>\n",
       "      <th>repository</th>\n",
       "      <th>objectURL</th>\n",
       "      <th>tags</th>\n",
       "    </tr>\n",
       "  </thead>\n",
       "  <tbody>\n",
       "    <tr>\n",
       "      <th>0</th>\n",
       "      <td>34</td>\n",
       "      <td>False</td>\n",
       "      <td>1970.289.6</td>\n",
       "      <td>True</td>\n",
       "      <td>https://images.metmuseum.org/CRDImages/ad/orig...</td>\n",
       "      <td>https://images.metmuseum.org/CRDImages/ad/web-...</td>\n",
       "      <td>[]</td>\n",
       "      <td>[{'role': 'Maker', 'name': 'Forestville Manufa...</td>\n",
       "      <td>The American Wing</td>\n",
       "      <td>Clock</td>\n",
       "      <td>...</td>\n",
       "      <td>NaN</td>\n",
       "      <td>NaN</td>\n",
       "      <td>NaN</td>\n",
       "      <td>Furniture</td>\n",
       "      <td>NaN</td>\n",
       "      <td>NaN</td>\n",
       "      <td>2019-07-31T03:00:40.447Z</td>\n",
       "      <td>Metropolitan Museum of Art, New York, NY</td>\n",
       "      <td>https://www.metmuseum.org/art/collection/searc...</td>\n",
       "      <td>['Landscapes', 'Boats']</td>\n",
       "    </tr>\n",
       "    <tr>\n",
       "      <th>1</th>\n",
       "      <td>37</td>\n",
       "      <td>False</td>\n",
       "      <td>38.165.51</td>\n",
       "      <td>True</td>\n",
       "      <td>https://images.metmuseum.org/CRDImages/ad/orig...</td>\n",
       "      <td>https://images.metmuseum.org/CRDImages/ad/web-...</td>\n",
       "      <td>['https://images.metmuseum.org/CRDImages/ad/or...</td>\n",
       "      <td>[{'role': 'Maker', 'name': 'Pierre Stephan'}]</td>\n",
       "      <td>The American Wing</td>\n",
       "      <td>Figure</td>\n",
       "      <td>...</td>\n",
       "      <td>NaN</td>\n",
       "      <td>NaN</td>\n",
       "      <td>NaN</td>\n",
       "      <td>Ceramics</td>\n",
       "      <td>NaN</td>\n",
       "      <td>NaN</td>\n",
       "      <td>2019-02-01T10:50:49.477Z</td>\n",
       "      <td>Metropolitan Museum of Art, New York, NY</td>\n",
       "      <td>https://www.metmuseum.org/art/collection/searc...</td>\n",
       "      <td>['Cannons', 'Swords', 'Men']</td>\n",
       "    </tr>\n",
       "    <tr>\n",
       "      <th>2</th>\n",
       "      <td>38</td>\n",
       "      <td>False</td>\n",
       "      <td>38.165.50</td>\n",
       "      <td>True</td>\n",
       "      <td>https://images.metmuseum.org/CRDImages/ad/orig...</td>\n",
       "      <td>https://images.metmuseum.org/CRDImages/ad/web-...</td>\n",
       "      <td>['https://images.metmuseum.org/CRDImages/ad/or...</td>\n",
       "      <td>[{'role': 'Maker', 'name': 'Pierre Stephan'}]</td>\n",
       "      <td>The American Wing</td>\n",
       "      <td>Figure</td>\n",
       "      <td>...</td>\n",
       "      <td>NaN</td>\n",
       "      <td>NaN</td>\n",
       "      <td>NaN</td>\n",
       "      <td>Ceramics</td>\n",
       "      <td>NaN</td>\n",
       "      <td>NaN</td>\n",
       "      <td>2019-02-01T10:50:49.477Z</td>\n",
       "      <td>Metropolitan Museum of Art, New York, NY</td>\n",
       "      <td>https://www.metmuseum.org/art/collection/searc...</td>\n",
       "      <td>['Cannons', 'Swords', 'Men', 'Admirals']</td>\n",
       "    </tr>\n",
       "    <tr>\n",
       "      <th>3</th>\n",
       "      <td>39</td>\n",
       "      <td>False</td>\n",
       "      <td>18.11.10</td>\n",
       "      <td>True</td>\n",
       "      <td>https://images.metmuseum.org/CRDImages/ad/orig...</td>\n",
       "      <td>https://images.metmuseum.org/CRDImages/ad/web-...</td>\n",
       "      <td>[]</td>\n",
       "      <td>None</td>\n",
       "      <td>The American Wing</td>\n",
       "      <td>Advertisement</td>\n",
       "      <td>...</td>\n",
       "      <td>NaN</td>\n",
       "      <td>NaN</td>\n",
       "      <td>NaN</td>\n",
       "      <td>Natural Substances</td>\n",
       "      <td>NaN</td>\n",
       "      <td>NaN</td>\n",
       "      <td>2019-02-01T10:50:49.477Z</td>\n",
       "      <td>Metropolitan Museum of Art, New York, NY</td>\n",
       "      <td>https://www.metmuseum.org/art/collection/searc...</td>\n",
       "      <td>['Advertisements']</td>\n",
       "    </tr>\n",
       "    <tr>\n",
       "      <th>4</th>\n",
       "      <td>40</td>\n",
       "      <td>False</td>\n",
       "      <td>46.140.143</td>\n",
       "      <td>True</td>\n",
       "      <td>https://images.metmuseum.org/CRDImages/ad/orig...</td>\n",
       "      <td>https://images.metmuseum.org/CRDImages/ad/web-...</td>\n",
       "      <td>[]</td>\n",
       "      <td>[{'role': 'Maker', 'name': 'New England Glass ...</td>\n",
       "      <td>The American Wing</td>\n",
       "      <td>Ale glass</td>\n",
       "      <td>...</td>\n",
       "      <td>NaN</td>\n",
       "      <td>NaN</td>\n",
       "      <td>NaN</td>\n",
       "      <td>Glass</td>\n",
       "      <td>NaN</td>\n",
       "      <td>NaN</td>\n",
       "      <td>2019-07-31T03:00:40.447Z</td>\n",
       "      <td>Metropolitan Museum of Art, New York, NY</td>\n",
       "      <td>https://www.metmuseum.org/art/collection/searc...</td>\n",
       "      <td>[]</td>\n",
       "    </tr>\n",
       "  </tbody>\n",
       "</table>\n",
       "<p>5 rows × 49 columns</p>\n",
       "</div>"
      ],
      "text/plain": [
       "   objectID isHighlight accessionNumber isPublicDomain  \\\n",
       "0        34       False      1970.289.6           True   \n",
       "1        37       False       38.165.51           True   \n",
       "2        38       False       38.165.50           True   \n",
       "3        39       False        18.11.10           True   \n",
       "4        40       False      46.140.143           True   \n",
       "\n",
       "                                        primaryImage  \\\n",
       "0  https://images.metmuseum.org/CRDImages/ad/orig...   \n",
       "1  https://images.metmuseum.org/CRDImages/ad/orig...   \n",
       "2  https://images.metmuseum.org/CRDImages/ad/orig...   \n",
       "3  https://images.metmuseum.org/CRDImages/ad/orig...   \n",
       "4  https://images.metmuseum.org/CRDImages/ad/orig...   \n",
       "\n",
       "                                   primaryImageSmall  \\\n",
       "0  https://images.metmuseum.org/CRDImages/ad/web-...   \n",
       "1  https://images.metmuseum.org/CRDImages/ad/web-...   \n",
       "2  https://images.metmuseum.org/CRDImages/ad/web-...   \n",
       "3  https://images.metmuseum.org/CRDImages/ad/web-...   \n",
       "4  https://images.metmuseum.org/CRDImages/ad/web-...   \n",
       "\n",
       "                                    additionalImages  \\\n",
       "0                                                 []   \n",
       "1  ['https://images.metmuseum.org/CRDImages/ad/or...   \n",
       "2  ['https://images.metmuseum.org/CRDImages/ad/or...   \n",
       "3                                                 []   \n",
       "4                                                 []   \n",
       "\n",
       "                                        constituents         department  \\\n",
       "0  [{'role': 'Maker', 'name': 'Forestville Manufa...  The American Wing   \n",
       "1      [{'role': 'Maker', 'name': 'Pierre Stephan'}]  The American Wing   \n",
       "2      [{'role': 'Maker', 'name': 'Pierre Stephan'}]  The American Wing   \n",
       "3                                               None  The American Wing   \n",
       "4  [{'role': 'Maker', 'name': 'New England Glass ...  The American Wing   \n",
       "\n",
       "      objectName                    ...                    locus excavation  \\\n",
       "0          Clock                    ...                      NaN        NaN   \n",
       "1         Figure                    ...                      NaN        NaN   \n",
       "2         Figure                    ...                      NaN        NaN   \n",
       "3  Advertisement                    ...                      NaN        NaN   \n",
       "4      Ale glass                    ...                      NaN        NaN   \n",
       "\n",
       "  river      classification rightsAndReproduction linkResource  \\\n",
       "0   NaN           Furniture                   NaN          NaN   \n",
       "1   NaN            Ceramics                   NaN          NaN   \n",
       "2   NaN            Ceramics                   NaN          NaN   \n",
       "3   NaN  Natural Substances                   NaN          NaN   \n",
       "4   NaN               Glass                   NaN          NaN   \n",
       "\n",
       "               metadataDate                                repository  \\\n",
       "0  2019-07-31T03:00:40.447Z  Metropolitan Museum of Art, New York, NY   \n",
       "1  2019-02-01T10:50:49.477Z  Metropolitan Museum of Art, New York, NY   \n",
       "2  2019-02-01T10:50:49.477Z  Metropolitan Museum of Art, New York, NY   \n",
       "3  2019-02-01T10:50:49.477Z  Metropolitan Museum of Art, New York, NY   \n",
       "4  2019-07-31T03:00:40.447Z  Metropolitan Museum of Art, New York, NY   \n",
       "\n",
       "                                           objectURL  \\\n",
       "0  https://www.metmuseum.org/art/collection/searc...   \n",
       "1  https://www.metmuseum.org/art/collection/searc...   \n",
       "2  https://www.metmuseum.org/art/collection/searc...   \n",
       "3  https://www.metmuseum.org/art/collection/searc...   \n",
       "4  https://www.metmuseum.org/art/collection/searc...   \n",
       "\n",
       "                                       tags  \n",
       "0                   ['Landscapes', 'Boats']  \n",
       "1              ['Cannons', 'Swords', 'Men']  \n",
       "2  ['Cannons', 'Swords', 'Men', 'Admirals']  \n",
       "3                        ['Advertisements']  \n",
       "4                                        []  \n",
       "\n",
       "[5 rows x 49 columns]"
      ]
     },
     "execution_count": 46,
     "metadata": {},
     "output_type": "execute_result"
    }
   ],
   "source": [
    "dbimg = pd.merge(small, database, how='left', on=['objectID'])\n",
    "dbimg = dbimg.sort_values(by='objectID').reset_index().drop('index',axis=1)\n",
    "dbimg.head()\n",
    "# 227979 rows"
   ]
  },
  {
   "cell_type": "markdown",
   "metadata": {},
   "source": [
    "### Code for extracting Tags "
   ]
  },
  {
   "cell_type": "code",
   "execution_count": null,
   "metadata": {},
   "outputs": [],
   "source": []
  },
  {
   "cell_type": "code",
   "execution_count": 47,
   "metadata": {},
   "outputs": [],
   "source": [
    "dbimg['tags'] = dbimg['tags'].astype(str)"
   ]
  },
  {
   "cell_type": "code",
   "execution_count": 48,
   "metadata": {},
   "outputs": [],
   "source": [
    "lists = []\n",
    "for i in range(len(dbimg)):\n",
    "    if (len(dbimg['tags'][i]) > 2 and pd.isnull(dbimg['tags'][i]) != True and dbimg['tags'][i] != 'nan' and type(dbimg['tags'][i]) !=float):\n",
    "        tag = dbimg['tags'][i]\n",
    "        splitted = tag.split(',')\n",
    "        for s in splitted:\n",
    "            clean = re.sub('[^a-zA-Z]+', '', s)\n",
    "            lists.append(clean)"
   ]
  },
  {
   "cell_type": "code",
   "execution_count": 49,
   "metadata": {},
   "outputs": [
    {
     "name": "stdout",
     "output_type": "stream",
     "text": [
      "There are total 313110 Tags\n"
     ]
    }
   ],
   "source": [
    "print('There are total', len(lists), 'Tags')"
   ]
  },
  {
   "cell_type": "code",
   "execution_count": 50,
   "metadata": {},
   "outputs": [
    {
     "name": "stdout",
     "output_type": "stream",
     "text": [
      "There are 1039 unique Tags\n"
     ]
    }
   ],
   "source": [
    "print('There are', len(np.unique(lists)), 'unique Tags')"
   ]
  },
  {
   "cell_type": "code",
   "execution_count": 51,
   "metadata": {},
   "outputs": [
    {
     "data": {
      "text/plain": [
       "150222"
      ]
     },
     "execution_count": 51,
     "metadata": {},
     "output_type": "execute_result"
    }
   ],
   "source": [
    "lists = []\n",
    "for i in range(len(dbimg)):\n",
    "    if (len(dbimg['tags'][i]) > 2 and pd.isnull(dbimg['tags'][i]) != True and dbimg['tags'][i] != 'nan' and type(dbimg['tags'][i]) !=float):\n",
    "        tag = dbimg['tags'][i]\n",
    "        lists.append(tag)\n",
    "len(lists)"
   ]
  },
  {
   "cell_type": "code",
   "execution_count": 12,
   "metadata": {},
   "outputs": [
    {
     "data": {
      "text/plain": [
       "65.89291118918848"
      ]
     },
     "execution_count": 12,
     "metadata": {},
     "output_type": "execute_result"
    }
   ],
   "source": [
    "len(lists)/len(dbimg)*100"
   ]
  },
  {
   "cell_type": "markdown",
   "metadata": {},
   "source": [
    "### The most frequently used Tags"
   ]
  },
  {
   "cell_type": "code",
   "execution_count": 36,
   "metadata": {},
   "outputs": [
    {
     "data": {
      "text/plain": [
       "<matplotlib.axes._subplots.AxesSubplot at 0x7f5a28515080>"
      ]
     },
     "execution_count": 36,
     "metadata": {},
     "output_type": "execute_result"
    },
    {
     "data": {
      "image/png": "[encoded data removed]",
      "text/plain": [
       "<Figure size 864x432 with 1 Axes>"
      ]
     },
     "metadata": {},
     "output_type": "display_data"
    }
   ],
   "source": [
    "tags = pd.DataFrame({'tag':lists})\n",
    "tags.groupby('tag').size().sort_values(ascending=True).tail(20).plot(kind='barh', figsize=(12,6))"
   ]
  },
  {
   "cell_type": "code",
   "execution_count": null,
   "metadata": {},
   "outputs": [],
   "source": [
    "# Code for changing tag columns\n",
    "ct=0\n",
    "for i in range(len(dbimg)):\n",
    "    if (len(dbimg['tags'][i]) > 2 and pd.isnull(dbimg['tags'][i]) != True and dbimg['tags'][i] != 'nan' and type(dbimg['tags'][i]) !=float):\n",
    "        tag = dbimg['tags'][i]\n",
    "        splitted = tag.split(',')\n",
    "        empty=[]\n",
    "        for s in splitted:\n",
    "            clean = re.sub('[^a-zA-Z]+', '', s)\n",
    "            empty.append(clean)\n",
    "        dbimg['tags'][i] = empty\n",
    "        ct+=1\n",
    "        if ct % 1000 == 0:\n",
    "            print (ct)"
   ]
  },
  {
   "cell_type": "code",
   "execution_count": 40,
   "metadata": {},
   "outputs": [
    {
     "data": {
      "text/plain": [
       "<matplotlib.axes._subplots.AxesSubplot at 0x7f0b83e59588>"
      ]
     },
     "execution_count": 40,
     "metadata": {},
     "output_type": "execute_result"
    },
    {
     "data": {
      "image/png": "[encoded data removed]",
      "text/plain": [
       "<Figure size 864x432 with 1 Axes>"
      ]
     },
     "metadata": {},
     "output_type": "display_data"
    }
   ],
   "source": [
    "dbimg['objectID'].groupby(dbimg['medium']).size().sort_values(ascending=True).tail(20).plot(kind='barh',figsize=(12,6))"
   ]
  },
  {
   "cell_type": "code",
   "execution_count": 35,
   "metadata": {},
   "outputs": [
    {
     "data": {
      "text/plain": [
       "<matplotlib.axes._subplots.AxesSubplot at 0x7f5a227582e8>"
      ]
     },
     "execution_count": 35,
     "metadata": {},
     "output_type": "execute_result"
    },
    {
     "data": {
      "image/png": "[encoded data removed]",
      "text/plain": [
       "<Figure size 864x432 with 1 Axes>"
      ]
     },
     "metadata": {},
     "output_type": "display_data"
    }
   ],
   "source": [
    "dbimg['objectID'].groupby(dbimg['classification']).size().sort_values(ascending=True).tail(20).plot(kind='barh',figsize=(12,6))"
   ]
  },
  {
   "cell_type": "code",
   "execution_count": 30,
   "metadata": {},
   "outputs": [
    {
     "data": {
      "text/plain": [
       "176197"
      ]
     },
     "execution_count": 30,
     "metadata": {},
     "output_type": "execute_result"
    }
   ],
   "source": [
    "sum(pd.isnull(dbimg['country']))"
   ]
  },
  {
   "cell_type": "code",
   "execution_count": 39,
   "metadata": {},
   "outputs": [
    {
     "data": {
      "text/plain": [
       "<matplotlib.axes._subplots.AxesSubplot at 0x7f0b84834be0>"
      ]
     },
     "execution_count": 39,
     "metadata": {},
     "output_type": "execute_result"
    },
    {
     "data": {
      "image/png": "[encoded data removed]",
      "text/plain": [
       "<Figure size 864x432 with 1 Axes>"
      ]
     },
     "metadata": {},
     "output_type": "display_data"
    }
   ],
   "source": [
    "dbimg['objectID'].groupby(dbimg['country']).count().sort_values(ascending=True).tail(10).plot(kind='barh',figsize=(12,6))"
   ]
  },
  {
   "cell_type": "code",
   "execution_count": 41,
   "metadata": {},
   "outputs": [
    {
     "data": {
      "text/plain": [
       "<matplotlib.axes._subplots.AxesSubplot at 0x7f0b83dc4e48>"
      ]
     },
     "execution_count": 41,
     "metadata": {},
     "output_type": "execute_result"
    },
    {
     "data": {
      "image/png": "[encoded data removed]",
      "text/plain": [
       "<Figure size 864x432 with 1 Axes>"
      ]
     },
     "metadata": {},
     "output_type": "display_data"
    }
   ],
   "source": [
    "dbimg['objectID'].groupby(dbimg['period']).size().sort_values(ascending=True).tail(20).plot(kind='barh',figsize=(12,6))"
   ]
  },
  {
   "cell_type": "code",
   "execution_count": 53,
   "metadata": {},
   "outputs": [
    {
     "data": {
      "text/plain": [
       "<matplotlib.axes._subplots.AxesSubplot at 0x7f0b2820ea58>"
      ]
     },
     "execution_count": 53,
     "metadata": {},
     "output_type": "execute_result"
    },
    {
     "data": {
      "image/png": "[encoded data removed]",
      "text/plain": [
       "<Figure size 864x432 with 1 Axes>"
      ]
     },
     "metadata": {},
     "output_type": "display_data"
    }
   ],
   "source": [
    "dbimg['objectID'].groupby(dbimg['title']).size().sort_values(ascending=True).tail(20).plot(kind='barh',figsize=(12,6))"
   ]
  },
  {
   "cell_type": "code",
   "execution_count": 54,
   "metadata": {},
   "outputs": [
    {
     "data": {
      "text/plain": [
       "<matplotlib.axes._subplots.AxesSubplot at 0x7f0b2825ab70>"
      ]
     },
     "execution_count": 54,
     "metadata": {},
     "output_type": "execute_result"
    },
    {
     "data": {
      "image/png": "[encoded data removed]",
      "text/plain": [
       "<Figure size 864x432 with 1 Axes>"
      ]
     },
     "metadata": {},
     "output_type": "display_data"
    }
   ],
   "source": [
    "dbimg['objectID'].groupby(dbimg['department']).size().sort_values(ascending=True).tail(20).plot(kind='barh',figsize=(12,6))"
   ]
  }
 ],
 "metadata": {
  "kernelspec": {
   "display_name": "Python 3",
   "language": "python",
   "name": "python3"
  },
  "language_info": {
   "codemirror_mode": {
    "name": "ipython",
    "version": 3
   },
   "file_extension": ".py",
   "mimetype": "text/x-python",
   "name": "python",
   "nbconvert_exporter": "python",
   "pygments_lexer": "ipython3",
   "version": "3.6.6"
  }
 },
 "nbformat": 4,
 "nbformat_minor": 2
}
