{
 "cells": [
  {
   "cell_type": "markdown",
   "metadata": {},
   "source": [
    "# Image download"
   ]
  },
  {
   "cell_type": "code",
   "execution_count": null,
   "metadata": {},
   "outputs": [],
   "source": [
    "import requests\n",
    "import json\n",
    "import pandas as pd\n",
    "import numpy as np\n",
    "import os\n",
    "import urllib\n",
    "from urllib import request\n",
    "import sqlite3\n",
    "from PIL import Image"
   ]
  },
  {
   "cell_type": "code",
   "execution_count": null,
   "metadata": {},
   "outputs": [],
   "source": [
    "os.chdir('/sfs/lustre/bahamut/scratch/yl2vq')"
   ]
  },
  {
   "cell_type": "markdown",
   "metadata": {},
   "source": [
    "### Object ID and Primary Small Images are extracted from the Database"
   ]
  },
  {
   "cell_type": "code",
   "execution_count": null,
   "metadata": {},
   "outputs": [],
   "source": [
    "metsmall = pd.read_csv('dbsmall.csv')\n",
    "metsmall.head()"
   ]
  },
  {
   "cell_type": "code",
   "execution_count": 13,
   "metadata": {},
   "outputs": [
    {
     "data": {
      "text/plain": [
       "469301"
      ]
     },
     "execution_count": 13,
     "metadata": {},
     "output_type": "execute_result"
    }
   ],
   "source": [
    "len(metsmall['primaryImageSmall'])"
   ]
  },
  {
   "cell_type": "code",
   "execution_count": 23,
   "metadata": {},
   "outputs": [
    {
     "data": {
      "text/plain": [
       "48.85478616069431"
      ]
     },
     "execution_count": 23,
     "metadata": {},
     "output_type": "execute_result"
    }
   ],
   "source": [
    "len(metsmall[pd.isnull(metsmall['primaryImageSmall']) != True]) / len(metsmall) *100"
   ]
  },
  {
   "cell_type": "markdown",
   "metadata": {},
   "source": [
    "### Code for downloading Primary Small Images to 'Primarysmall' directory"
   ]
  },
  {
   "cell_type": "code",
   "execution_count": 4,
   "metadata": {},
   "outputs": [],
   "source": [
    "# Changing Directory\n",
    "os.chdir('/sfs/lustre/bahamut/scratch/yl2vq/Primarysmall')"
   ]
  },
  {
   "cell_type": "code",
   "execution_count": null,
   "metadata": {},
   "outputs": [],
   "source": [
    "for i in range(0,len(metsmall)):\n",
    "    try: \n",
    "        if pd.isnull(metsmall['primaryImageSmall'][i]) != True:\n",
    "            # run if the primaryImageSmall is not empty\n",
    "            request.urlretrieve(metsmall['primaryImageSmall'][i], '%s.%s'%(metsmall['objectID'][i],'jpg'))\n",
    "            # retrieving images as 'objectID'.'jpg'\n",
    "            \n",
    "    except (urllib.error.HTTPError,UnicodeEncodeError) as e:\n",
    "        # skip if there is an error for retrieving the image or HTTP error\n",
    "        print(i) \n",
    "        # print to check which object didn't work"
   ]
  },
  {
   "cell_type": "markdown",
   "metadata": {},
   "source": [
    "### Code for checking how many images in the 'Primarysmall' directory"
   ]
  },
  {
   "cell_type": "code",
   "execution_count": 24,
   "metadata": {},
   "outputs": [
    {
     "name": "stdout",
     "output_type": "stream",
     "text": [
      "There are 227979 Images in the Primarysmall Directory\n"
     ]
    }
   ],
   "source": [
    "path, dirs, files = next(os.walk(\"/sfs/lustre/bahamut/scratch/yl2vq/Primarysmall\"))\n",
    "file_count = len(files)\n",
    "print(\"There are\",file_count, \"Images in the Primarysmall Directory\")"
   ]
  },
  {
   "cell_type": "code",
   "execution_count": 22,
   "metadata": {},
   "outputs": [
    {
     "name": "stdout",
     "output_type": "stream",
     "text": [
      "There were 5082 PrimaryImageSmall links didn't work\n"
     ]
    }
   ],
   "source": [
    "print(\"There were\", 469295-464213, \"PrimaryImageSmall links didn't work\")"
   ]
  }
 ],
 "metadata": {
  "kernelspec": {
   "display_name": "Python 3",
   "language": "python",
   "name": "python3"
  },
  "language_info": {
   "codemirror_mode": {
    "name": "ipython",
    "version": 3
   },
   "file_extension": ".py",
   "mimetype": "text/x-python",
   "name": "python",
   "nbconvert_exporter": "python",
   "pygments_lexer": "ipython3",
   "version": "3.7.3"
  }
 },
 "nbformat": 4,
 "nbformat_minor": 4
}
