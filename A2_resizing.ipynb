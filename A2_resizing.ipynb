{
 "cells": [
  {
   "cell_type": "code",
   "execution_count": 3,
   "metadata": {},
   "outputs": [],
   "source": [
    "import pandas as pd\n",
    "import sqlite3\n",
    "from PIL import Image, ImageOps\n",
    "from glob import glob\n",
    "import os\n",
    "import seaborn as sns\n",
    "import matplotlib.pyplot as plt \n",
    "import cv2"
   ]
  },
  {
   "cell_type": "markdown",
   "metadata": {},
   "source": [
    "### Make a dataframe consists of Image file names in the Primarysmall directory"
   ]
  },
  {
   "cell_type": "code",
   "execution_count": 5,
   "metadata": {},
   "outputs": [
    {
     "data": {
      "text/html": [
       "<div>\n",
       "<style scoped>\n",
       "    .dataframe tbody tr th:only-of-type {\n",
       "        vertical-align: middle;\n",
       "    }\n",
       "\n",
       "    .dataframe tbody tr th {\n",
       "        vertical-align: top;\n",
       "    }\n",
       "\n",
       "    .dataframe thead th {\n",
       "        text-align: right;\n",
       "    }\n",
       "</style>\n",
       "<table border=\"1\" class=\"dataframe\">\n",
       "  <thead>\n",
       "    <tr style=\"text-align: right;\">\n",
       "      <th></th>\n",
       "      <th>objectID</th>\n",
       "    </tr>\n",
       "  </thead>\n",
       "  <tbody>\n",
       "    <tr>\n",
       "      <th>0</th>\n",
       "      <td>750322.jpg</td>\n",
       "    </tr>\n",
       "    <tr>\n",
       "      <th>1</th>\n",
       "      <td>104380.jpg</td>\n",
       "    </tr>\n",
       "    <tr>\n",
       "      <th>2</th>\n",
       "      <td>72727.jpg</td>\n",
       "    </tr>\n",
       "    <tr>\n",
       "      <th>3</th>\n",
       "      <td>590464.jpg</td>\n",
       "    </tr>\n",
       "    <tr>\n",
       "      <th>4</th>\n",
       "      <td>204708.jpg</td>\n",
       "    </tr>\n",
       "  </tbody>\n",
       "</table>\n",
       "</div>"
      ],
      "text/plain": [
       "     objectID\n",
       "0  750322.jpg\n",
       "1  104380.jpg\n",
       "2   72727.jpg\n",
       "3  590464.jpg\n",
       "4  204708.jpg"
      ]
     },
     "execution_count": 5,
     "metadata": {},
     "output_type": "execute_result"
    }
   ],
   "source": [
    "empty= []\n",
    "for i in os.listdir('/sfs/lustre/bahamut/scratch/yl2vq/Primarysmall'):\n",
    "    empty.append(i)\n",
    "small = pd.DataFrame({\"objectID\":empty})\n",
    "small.head() #total 227979 (1 pynb checkpoint)"
   ]
  },
  {
   "cell_type": "markdown",
   "metadata": {},
   "source": [
    "### Code for Resizing (224,224) Images in 'Primarysmall' directory and saving to 'Resized' directory"
   ]
  },
  {
   "cell_type": "code",
   "execution_count": null,
   "metadata": {},
   "outputs": [],
   "source": [
    "count=0 \n",
    "# counter for keeping track of downloading\n",
    "\n",
    "for i in range(0,len(small)):\n",
    "    os.chdir('/sfs/lustre/bahamut/scratch/yl2vq/Primarysmall') \n",
    "    # From the Primarysmall Directory\n",
    "    file = small['objectID'][i]\n",
    "    # Get only the image files\n",
    "    if file.endswith('.jpg'):\n",
    "        image = Image.open(file)\n",
    "        # open file\n",
    "        newsize = (224, 224)\n",
    "        # set the new size\n",
    "        image.thumbnail(newsize)\n",
    "        # thumbnail does not distort image - makes sure the ratio is preserved\n",
    "        os.chdir('/sfs/lustre/bahamut/scratch/yl2vq/Resized')\n",
    "        # change directory to Resized directory\n",
    "        image.save(file)\n",
    "        # saves new image\n",
    "        ## shutil.move(file, Processed) -> what this code does is it moves from the one folder to another folder; original file will be gone\n",
    "    count +=1\n",
    "    if count %5000 == 0:\n",
    "        print(i)\n",
    "print(\"Resizing process - COMPLETE\")"
   ]
  },
  {
   "cell_type": "code",
   "execution_count": 111,
   "metadata": {},
   "outputs": [
    {
     "data": {
      "text/plain": [
       "objectID    .ipynb_checkpoints\n",
       "Name: 8979, dtype: object"
      ]
     },
     "execution_count": 111,
     "metadata": {},
     "output_type": "execute_result"
    }
   ],
   "source": [
    "# There is one file that is not .jpg \n",
    "small.iloc[8979] "
   ]
  },
  {
   "cell_type": "code",
   "execution_count": 8,
   "metadata": {},
   "outputs": [
    {
     "name": "stdout",
     "output_type": "stream",
     "text": [
      "There are 227979 Resized Images in the Resized Directory\n"
     ]
    }
   ],
   "source": [
    "import os\n",
    "path, dirs, files = next(os.walk(\"/sfs/lustre/bahamut/scratch/yl2vq/Resized\"))\n",
    "file_count = len(files)\n",
    "print(\"There are\",file_count, \"Resized Images in the Resized Directory\")"
   ]
  },
  {
   "cell_type": "markdown",
   "metadata": {},
   "source": [
    "#### Another way of saving image to directory"
   ]
  },
  {
   "cell_type": "code",
   "execution_count": null,
   "metadata": {},
   "outputs": [],
   "source": [
    "img = cv2.imread('object.jpg', 1)\n",
    "path = 'D:/OpenCV/Scripts/Images'\n",
    "cv2.imwrite(os.path.join('/sfs/lustre/bahamut/scratch/yl2vq' , 'file.jpg'), img)"
   ]
  }
 ],
 "metadata": {
  "kernelspec": {
   "display_name": "Python 3",
   "language": "python",
   "name": "python3"
  },
  "language_info": {
   "codemirror_mode": {
    "name": "ipython",
    "version": 3
   },
   "file_extension": ".py",
   "mimetype": "text/x-python",
   "name": "python",
   "nbconvert_exporter": "python",
   "pygments_lexer": "ipython3",
   "version": "3.6.6"
  }
 },
 "nbformat": 4,
 "nbformat_minor": 2
}
