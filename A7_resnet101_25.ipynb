{
 "cells": [
  {
   "cell_type": "code",
   "execution_count": 197,
   "metadata": {},
   "outputs": [],
   "source": [
    "try:\n",
    "  # %tensorflow_version only exists in Colab.\n",
    "  %tensorflow_version 2.x\n",
    "except Exception:\n",
    "  pass\n",
    "\n",
    "# Load the TensorBoard notebook extension\n",
    "%load_ext tensorboard"
   ]
  },
  {
   "cell_type": "code",
   "execution_count": 1,
   "metadata": {},
   "outputs": [
    {
     "name": "stderr",
     "output_type": "stream",
     "text": [
      "Using TensorFlow backend.\n"
     ]
    }
   ],
   "source": [
    "import tensorflow as tf\n",
    "import tensorflow.keras\n",
    "import datetime\n",
    "import numpy as np\n",
    "#from tensorflow.python.keras import layers\n",
    "#from tensorflow import keras\n",
    "from tensorflow.python.keras import backend as K\n",
    "from tensorflow.python.keras.models import Model\n",
    "from tensorflow.python.keras.layers import Flatten, Dense, Dropout\n",
    "from tensorflow.python.keras.applications.inception_resnet_v2 import InceptionResNetV2, preprocess_input\n",
    "#from keras.applications.resnet import ResNet50, ResNet101, preprocess_input\n",
    "from tensorflow.keras.applications.resnet50 import ResNet50\n",
    "from tensorflow.keras.applications.resnet import ResNet101\n",
    "\n",
    "\n",
    "from keras.layers import TimeDistributed, Conv3D, Input, Flatten, Dense, Reshape\n",
    "from keras.layers import Lambda\n",
    "\n",
    "from tensorflow.python.keras.optimizers import Adam\n",
    "from tensorflow.python.keras.preprocessing.image import ImageDataGenerator\n",
    "import matplotlib.pyplot as plt\n",
    "#References\n",
    "#Inception-v4, Inception-ResNet and the Impact of Residual Connections on Learning\n"
   ]
  },
  {
   "cell_type": "code",
   "execution_count": 2,
   "metadata": {},
   "outputs": [],
   "source": [
    "DATASET_PATH  = '/project/sds-capstone-aaai/met/DATA/Pytorch'\n",
    "# data \n",
    "IMAGE_SIZE    = (224, 224)\n",
    "#Note that the default input image size for this model is 299x299, instead of 224x224 as in the VGG16 and ResNet models.\n",
    "\n",
    "NUM_CLASSES   = 23\n",
    "#\n",
    "BATCH_SIZE    = 32  # try reducing batch size or freeze more layers if your GPU runs out of memory\n",
    "\n",
    "FREEZE_LAYERS = 2  # freeze the first this many layers for training\n",
    "NUM_EPOCHS    = 25 \n",
    "# epoch \n",
    "WEIGHTS_FINAL = 'resnet101_25epochs.h5'\n",
    "# pretrained weights from image net - but the model will use the final weights \n",
    "INP = Input(shape=(None, 224, 224, 3))"
   ]
  },
  {
   "cell_type": "code",
   "execution_count": 3,
   "metadata": {},
   "outputs": [],
   "source": [
    "# data pre-processing \n",
    "train_datagen = ImageDataGenerator(preprocessing_function=preprocess_input,\n",
    "                                   rotation_range=40,\n",
    "                                   width_shift_range=0.2,\n",
    "                                   height_shift_range=0.2,\n",
    "                                   shear_range=0.2,\n",
    "                                   zoom_range=0.2,\n",
    "                                   channel_shift_range=10,\n",
    "                                   horizontal_flip=True,\n",
    "                                   validation_split=0.3,\n",
    "                                   fill_mode='nearest')"
   ]
  },
  {
   "cell_type": "code",
   "execution_count": 4,
   "metadata": {},
   "outputs": [
    {
     "name": "stdout",
     "output_type": "stream",
     "text": [
      "Found 61131 images belonging to 23 classes.\n"
     ]
    }
   ],
   "source": [
    "# \n",
    "train_batches = train_datagen.flow_from_directory(DATASET_PATH + '/train',\n",
    "                                                  target_size=IMAGE_SIZE,\n",
    "                                                  interpolation='bicubic',\n",
    "                                                  class_mode='categorical',\n",
    "                                                  subset='training',\n",
    "                                                  shuffle=True,\n",
    "                                                  batch_size=BATCH_SIZE)"
   ]
  },
  {
   "cell_type": "code",
   "execution_count": 5,
   "metadata": {},
   "outputs": [
    {
     "name": "stdout",
     "output_type": "stream",
     "text": [
      "Found 26184 images belonging to 23 classes.\n"
     ]
    }
   ],
   "source": [
    "valid_batches = train_datagen.flow_from_directory(DATASET_PATH + '/train',\n",
    "                                                  target_size=IMAGE_SIZE,\n",
    "                                                  interpolation='bicubic',\n",
    "                                                  class_mode='categorical',\n",
    "                                                  subset='validation',\n",
    "                                                  shuffle=False,\n",
    "                                                  batch_size=BATCH_SIZE)"
   ]
  },
  {
   "cell_type": "code",
   "execution_count": 6,
   "metadata": {},
   "outputs": [],
   "source": [
    "# don't need to augment validation data \n",
    "test_datagen = ImageDataGenerator(preprocessing_function=preprocess_input)\n"
   ]
  },
  {
   "cell_type": "code",
   "execution_count": 7,
   "metadata": {},
   "outputs": [
    {
     "name": "stdout",
     "output_type": "stream",
     "text": [
      "Found 9711 images belonging to 23 classes.\n"
     ]
    }
   ],
   "source": [
    "test_batches = test_datagen.flow_from_directory(DATASET_PATH + '/valid',\n",
    "                                                  target_size=IMAGE_SIZE,\n",
    "                                                  interpolation='bicubic',\n",
    "                                                  class_mode='categorical',\n",
    "                                                  shuffle=False,\n",
    "                                                  batch_size=BATCH_SIZE)"
   ]
  },
  {
   "cell_type": "code",
   "execution_count": 8,
   "metadata": {},
   "outputs": [
    {
     "name": "stdout",
     "output_type": "stream",
     "text": [
      "****************\n",
      "Class #0 = architecture\n",
      "Class #1 = birds\n",
      "Class #2 = boats\n",
      "Class #3 = books\n",
      "Class #4 = bottles\n",
      "Class #5 = bowls\n",
      "Class #6 = buildings\n",
      "Class #7 = dogs\n",
      "Class #8 = flowers\n",
      "Class #9 = hieroglyphs\n",
      "Class #10 = horses\n",
      "Class #11 = houses\n",
      "Class #12 = landscapes\n",
      "Class #13 = leaves\n",
      "Class #14 = lions\n",
      "Class #15 = men\n",
      "Class #16 = ornament\n",
      "Class #17 = sculpture\n",
      "Class #18 = seals\n",
      "Class #19 = soldiers\n",
      "Class #20 = trees\n",
      "Class #21 = vases\n",
      "Class #22 = women\n",
      "****************\n"
     ]
    }
   ],
   "source": [
    "# show class indices\n",
    "print('****************')\n",
    "for cls, idx in train_batches.class_indices.items():\n",
    "    print('Class #{} = {}'.format(idx, cls))\n",
    "print('****************')"
   ]
  },
  {
   "cell_type": "code",
   "execution_count": 9,
   "metadata": {},
   "outputs": [],
   "source": [
    "resnet101_imagenet_model = ResNet101(include_top=False, \n",
    "                                   weights='imagenet', \n",
    "                                   input_shape=(224, 224, 3))\n",
    "\n",
    "# freeze the layers\n",
    "for layer in resnet101_imagenet_model.layers:\n",
    "    layer.trainable = False\n",
    "\n",
    "#Flatten output layer of Resnet\n",
    "flattened = tf.keras.layers.Flatten()(resnet101_imagenet_model.output)\n",
    "\n",
    "#Fully connected layer 1\n",
    "fc1 = tf.keras.layers.Dense(128, activation='relu', name=\"AddedDense1\")(flattened)\n",
    "\n",
    "#Fully connected layer, output layer\n",
    "fc2 = tf.keras.layers.Dense(23, activation='softmax', name=\"AddedDense2\")(fc1)\n",
    "\n",
    "model = tf.keras.models.Model(inputs=resnet101_imagenet_model.input, outputs=fc2)\n",
    "\n",
    "    \n",
    "# set optimizer = ADAM \n",
    "# set loss criterion and metrics \n",
    "\n",
    "model.compile(optimizer=tf.keras.optimizers.Adam(lr=1e-5),\n",
    "                  loss='categorical_crossentropy', metrics=['accuracy'])"
   ]
  },
  {
   "cell_type": "code",
   "execution_count": null,
   "metadata": {},
   "outputs": [],
   "source": [
    "#Top 1 Accuracy 0.803\n",
    "\n",
    "\n",
    "#Top 5 Accuracy 0.953\n",
    "#Now, in the case of top-1 score, you check if the top class (the one having the highest probability) is the same as the target label.\n",
    "\n",
    "#In the case of top-5 score, you check if the target label is one of your top 5 predictions (the 5 ones with the highest probabilities).\n",
    "\n",
    "#In both cases, the top score is computed as the times a predicted label matched the target label, divided by the number of data-points evaluated."
   ]
  },
  {
   "cell_type": "code",
   "execution_count": null,
   "metadata": {},
   "outputs": [
    {
     "name": "stdout",
     "output_type": "stream",
     "text": [
      "WARNING:tensorflow:sample_weight modes were coerced from\n",
      "  ...\n",
      "    to  \n",
      "  ['...']\n",
      "WARNING:tensorflow:sample_weight modes were coerced from\n",
      "  ...\n",
      "    to  \n",
      "  ['...']\n",
      "Train for 2728 steps, validate for 303 steps\n",
      "Epoch 1/25\n",
      "2728/2728 [==============================] - 5423s 2s/step - loss: 2.0556 - accuracy: 0.3788 - val_loss: 2.9084 - val_accuracy: 0.2095\n",
      "Epoch 2/25\n",
      "2480/2728 [==========================>...] - ETA: 7:35 - loss: 1.7995 - accuracy: 0.4407"
     ]
    }
   ],
   "source": [
    "log_dir = \"logs/fit/\" + datetime.datetime.now().strftime(\"%Y%m%d-%H%M%S\")\n",
    "tensorboard_callback = tf.keras.callbacks.TensorBoard(log_dir=log_dir, histogram_freq=1)\n",
    "\n",
    "\n",
    "#%%capture cap --no-stderr\n",
    "# beging training the model\n",
    "\n",
    "model.fit(train_batches,\n",
    "                        steps_per_epoch = train_batches.samples // BATCH_SIZE,\n",
    "                        validation_data = valid_batches,\n",
    "                        validation_steps = valid_batches.samples // BATCH_SIZE,\n",
    "                        epochs = NUM_EPOCHS)\n",
    "\n",
    "# save trained weights\n",
    "model.save(WEIGHTS_FINAL)\n",
    "\n",
    "\n",
    "\n",
    "\n",
    "\n",
    "\n",
    "\n",
    "#with open('output.txt', 'w') as f:\n",
    "    #f.write(cap.stdout)"
   ]
  },
  {
   "cell_type": "code",
   "execution_count": null,
   "metadata": {},
   "outputs": [],
   "source": [
    "acc = model.history.history['accuracy']\n",
    "val_acc = model.history.history['val_accuracy']\n",
    "loss = model.history.history['loss']\n",
    "val_loss = model.history.history['val_loss']\n",
    "\n",
    "epochs = range(1, len(acc) + 1)"
   ]
  },
  {
   "cell_type": "code",
   "execution_count": 11,
   "metadata": {},
   "outputs": [],
   "source": [
    "model.load_weights('resnet101_25epochs.h5')"
   ]
  },
  {
   "cell_type": "code",
   "execution_count": 13,
   "metadata": {},
   "outputs": [
    {
     "name": "stderr",
     "output_type": "stream",
     "text": [
      "/usr/local/lib/python3.7/dist-packages/sklearn/metrics/_classification.py:1272: UndefinedMetricWarning: Precision and F-score are ill-defined and being set to 0.0 in labels with no predicted samples. Use `zero_division` parameter to control this behavior.\n",
      "  _warn_prf(average, modifier, msg_start, len(result))\n"
     ]
    }
   ],
   "source": [
    "import numpy\n",
    "import pandas as pd\n",
    "test_steps_per_epoch = numpy.math.ceil(test_batches.samples / test_batches.batch_size)\n",
    "\n",
    "predictions = model.predict_generator(test_batches, steps=test_steps_per_epoch)\n",
    "# Get most likely class\n",
    "predicted_classes = numpy.argmax(predictions, axis=1)\n",
    "\n",
    "true_classes = test_batches.classes\n",
    "class_labels = list(test_batches.class_indices.keys()) \n",
    "\n",
    "# Confusion Matrix\n",
    "from sklearn.metrics import classification_report, confusion_matrix, plot_confusion_matrix\n",
    "report = classification_report(true_classes, predicted_classes, target_names=class_labels,output_dict=True)\n",
    "\n",
    "\n",
    "df = pd.DataFrame(report).transpose()\n",
    "#df.to_csv('classification_report_resnet101.csv')"
   ]
  },
  {
   "cell_type": "code",
   "execution_count": 21,
   "metadata": {},
   "outputs": [
    {
     "data": {
      "text/plain": [
       "array([13, 13, 20, ..., 13, 13, 13])"
      ]
     },
     "execution_count": 21,
     "metadata": {},
     "output_type": "execute_result"
    }
   ],
   "source": [
    "predicted_classes"
   ]
  },
  {
   "cell_type": "code",
   "execution_count": 29,
   "metadata": {},
   "outputs": [
    {
     "data": {
      "image/png": "[encoded data removed]",
      "text/plain": [
       "<Figure size 432x288 with 1 Axes>"
      ]
     },
     "metadata": {
      "needs_background": "light"
     },
     "output_type": "display_data"
    }
   ],
   "source": [
    "import matplotlib.pyplot as plt\n",
    "#import seaborn as sns\n",
    "labels = class_labels\n",
    "cm = confusion_matrix(true_classes, predicted_classes)\n",
    "fig = plt.figure()\n",
    "ax = fig.add_subplot(111)\n",
    "\n",
    "plt.imshow(cm, cmap=plt.cm.Blues)\n",
    "plt.title('Confusion matrix')\n",
    "ax.set_xticklabels([''] + labels)\n",
    "ax.set_yticklabels([''] + labels)\n",
    "plt.xlabel('Predicted')\n",
    "plt.ylabel('True')\n",
    "\n",
    "plt.savefig('confusion_resnet101.jpg')"
   ]
  }
 ],
 "metadata": {
  "kernelspec": {
   "display_name": "Tensorflow 2.1/Keras Py3.7",
   "language": "python",
   "name": "tensorflow210_py37"
  },
  "language_info": {
   "codemirror_mode": {
    "name": "ipython",
    "version": 3
   },
   "file_extension": ".py",
   "mimetype": "text/x-python",
   "name": "python",
   "nbconvert_exporter": "python",
   "pygments_lexer": "ipython3",
   "version": "3.7.5"
  },
  "toc-showcode": true
 },
 "nbformat": 4,
 "nbformat_minor": 4
}
